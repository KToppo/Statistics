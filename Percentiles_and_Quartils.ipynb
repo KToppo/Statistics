{
 "cells": [
  {
   "cell_type": "code",
   "execution_count": 1,
   "id": "be6a004b-c91c-432d-9341-77e234946800",
   "metadata": {},
   "outputs": [],
   "source": [
    "import numpy as np"
   ]
  },
  {
   "cell_type": "markdown",
   "id": "94d5f8fe-7514-4971-afcb-2f07e2719400",
   "metadata": {},
   "source": [
    "# Percentiles\n",
    "* A percentile is a value below which a certain percentage of observations lie.\n",
    "* percentile rank = (no of values below \"x\")/n * 100 ,      where, x is the index value in the data"
   ]
  },
  {
   "cell_type": "markdown",
   "id": "a63ed3c2-2ccf-48a9-bda8-24e94e5f8f07",
   "metadata": {},
   "source": [
    "## Example"
   ]
  },
  {
   "cell_type": "code",
   "execution_count": 2,
   "id": "2f448a56-a23f-4645-af69-f021a27ee335",
   "metadata": {},
   "outputs": [],
   "source": [
    "sample_data = [1,2,2,3,3,3,4,4,4,4,5,5,5,5,5,6,6,6,6,6,6,7,7,7,7,7,7,7]"
   ]
  },
  {
   "cell_type": "markdown",
   "id": "1d965c4b-9d6f-4c45-86d7-45fcd77de51d",
   "metadata": {},
   "source": [
    "* what is the percentile ranking of 6"
   ]
  },
  {
   "cell_type": "code",
   "execution_count": 3,
   "id": "cba0d828-c689-4580-81a9-74a74ecbaa0e",
   "metadata": {},
   "outputs": [
    {
     "data": {
      "text/plain": [
       "16"
      ]
     },
     "execution_count": 3,
     "metadata": {},
     "output_type": "execute_result"
    }
   ],
   "source": [
    "no_values_below_6 = sample_data.index(6) + 1 # Adding 1 because python index start with '0' not '1' not needed in actual formula\n",
    "no_values_below_6"
   ]
  },
  {
   "cell_type": "code",
   "execution_count": 4,
   "id": "1da5003f-d470-43fd-a4c2-ff45cef97636",
   "metadata": {},
   "outputs": [
    {
     "data": {
      "text/plain": [
       "28"
      ]
     },
     "execution_count": 4,
     "metadata": {},
     "output_type": "execute_result"
    }
   ],
   "source": [
    "n=len(sample_data)\n",
    "n"
   ]
  },
  {
   "cell_type": "code",
   "execution_count": 5,
   "id": "cec98e0b-f77c-4af4-8758-d74951c770b0",
   "metadata": {},
   "outputs": [
    {
     "data": {
      "text/plain": [
       "57.1"
      ]
     },
     "execution_count": 5,
     "metadata": {},
     "output_type": "execute_result"
    }
   ],
   "source": [
    "percentil_rank_of_6 = no_values_below_6/n * 100\n",
    "round(percentil_rank_of_6,1)"
   ]
  },
  {
   "cell_type": "markdown",
   "id": "dbcdf281-fc36-4d0e-b235-a0e96aa92341",
   "metadata": {},
   "source": [
    "### Note Finding value using percentil"
   ]
  },
  {
   "cell_type": "code",
   "execution_count": 6,
   "id": "3b58ac2f-f60f-405d-9aa1-9647466db093",
   "metadata": {},
   "outputs": [
    {
     "data": {
      "text/plain": [
       "16.0"
      ]
     },
     "execution_count": 6,
     "metadata": {},
     "output_type": "execute_result"
    }
   ],
   "source": [
    "value_index = percentil_rank_of_6/100 * (n)\n",
    "value_index"
   ]
  },
  {
   "cell_type": "code",
   "execution_count": 7,
   "id": "3b2d4dff-b171-4321-b784-2b225909e642",
   "metadata": {},
   "outputs": [
    {
     "data": {
      "text/plain": [
       "6"
      ]
     },
     "execution_count": 7,
     "metadata": {},
     "output_type": "execute_result"
    }
   ],
   "source": [
    "sample_data[int(value_index)]"
   ]
  },
  {
   "cell_type": "code",
   "execution_count": 8,
   "id": "79f4c8b2-412b-4b9f-ac69-e97add7db1ef",
   "metadata": {},
   "outputs": [
    {
     "data": {
      "text/plain": [
       "array([6.])"
      ]
     },
     "execution_count": 8,
     "metadata": {},
     "output_type": "execute_result"
    }
   ],
   "source": [
    "np.quantile(sample_data,[percentil_rank_of_6/100])"
   ]
  },
  {
   "cell_type": "markdown",
   "id": "741fd9b2-7ed5-4d8a-b810-66b7e0482c18",
   "metadata": {},
   "source": [
    "# Quartiles\n",
    "* 25% => 1st Quartile - Q1\n",
    "* 75% => 3ed Quartile - Q3"
   ]
  },
  {
   "cell_type": "code",
   "execution_count": 9,
   "id": "ae0da37c-497c-4f5e-a8ef-e1292dc6ef42",
   "metadata": {},
   "outputs": [
    {
     "data": {
      "text/plain": [
       "(np.float64(4.0), np.float64(6.25))"
      ]
     },
     "execution_count": 9,
     "metadata": {},
     "output_type": "execute_result"
    }
   ],
   "source": [
    "Q1, Q3 = np.quantile(sample_data,[.25,.75])\n",
    "Q1, Q3"
   ]
  },
  {
   "cell_type": "markdown",
   "id": "c0c88a34-5b24-4fe4-9adc-c89b4c079544",
   "metadata": {},
   "source": [
    "# Inter Quartil Rang (IQR)\n",
    "* IQR = Q3 - Q1\n",
    "* use to find outliers"
   ]
  },
  {
   "cell_type": "code",
   "execution_count": 10,
   "id": "6002d5e9-18ed-4354-99bd-e8ac0b6c21e8",
   "metadata": {},
   "outputs": [
    {
     "data": {
      "text/plain": [
       "np.float64(2.25)"
      ]
     },
     "execution_count": 10,
     "metadata": {},
     "output_type": "execute_result"
    }
   ],
   "source": [
    "Inter_Quartil_Rang = Q3 - Q1\n",
    "Inter_Quartil_Rang"
   ]
  },
  {
   "cell_type": "code",
   "execution_count": null,
   "id": "f69826d7-60d5-4743-92aa-7ed8b815282c",
   "metadata": {},
   "outputs": [],
   "source": []
  }
 ],
 "metadata": {
  "kernelspec": {
   "display_name": "Python 3 (ipykernel)",
   "language": "python",
   "name": "python3"
  },
  "language_info": {
   "codemirror_mode": {
    "name": "ipython",
    "version": 3
   },
   "file_extension": ".py",
   "mimetype": "text/x-python",
   "name": "python",
   "nbconvert_exporter": "python",
   "pygments_lexer": "ipython3",
   "version": "3.12.7"
  }
 },
 "nbformat": 4,
 "nbformat_minor": 5
}
