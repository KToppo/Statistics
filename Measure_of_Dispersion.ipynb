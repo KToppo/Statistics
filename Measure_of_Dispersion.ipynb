{
 "cells": [
  {
   "cell_type": "code",
   "execution_count": 1,
   "id": "0d32acef-81c9-49a1-9f74-63b0191f72ea",
   "metadata": {},
   "outputs": [],
   "source": [
    "import numpy as np"
   ]
  },
  {
   "cell_type": "markdown",
   "id": "66253e94-6cdf-493f-9d19-6fc3532e5a63",
   "metadata": {},
   "source": [
    "# Measure of Dispersion\n",
    "1) Range\n",
    "2) Variance\n",
    "3) Standard Deviation"
   ]
  },
  {
   "cell_type": "markdown",
   "id": "518f987b-3567-47b5-8df4-9746f5cd79cd",
   "metadata": {},
   "source": [
    "## 1) Range\n",
    "* range = [lower limit : upper limit]"
   ]
  },
  {
   "cell_type": "code",
   "execution_count": 2,
   "id": "cdcde032-a054-4549-98d1-8ef1a68b3fc8",
   "metadata": {},
   "outputs": [
    {
     "data": {
      "text/plain": [
       "1"
      ]
     },
     "execution_count": 2,
     "metadata": {},
     "output_type": "execute_result"
    }
   ],
   "source": [
    "Sample_Data = [1,2,3,4,5,6,7,8,9,10]\n",
    "lower_limit = min(Sample_Data)\n",
    "lower_limit"
   ]
  },
  {
   "cell_type": "code",
   "execution_count": 3,
   "id": "55d96fba-6079-450c-940c-0f9b073c8304",
   "metadata": {},
   "outputs": [
    {
     "data": {
      "text/plain": [
       "10"
      ]
     },
     "execution_count": 3,
     "metadata": {},
     "output_type": "execute_result"
    }
   ],
   "source": [
    "upper_limit = max(Sample_Data)\n",
    "upper_limit"
   ]
  },
  {
   "cell_type": "markdown",
   "id": "4d472f16-a0ef-462d-9974-80109e84e499",
   "metadata": {},
   "source": [
    "## 2) Variance\n",
    "* Population (N)\n",
    "  * variance = (sum of $(x_i - mean)^2$)/N\n",
    "* Sample (n)\n",
    "  * variance = (sum of $(x_i - mean)^2$)/(n-1)"
   ]
  },
  {
   "cell_type": "code",
   "execution_count": 4,
   "id": "b6305b1b-c05a-4e3c-b82e-a79d9beab723",
   "metadata": {},
   "outputs": [
    {
     "data": {
      "text/plain": [
       "array([20, 34, 48, 48,  5, 12, 18, 18,  9, 18, 37, 42, 31, 46, 36, 14, 45,\n",
       "       40, 36,  5])"
      ]
     },
     "execution_count": 4,
     "metadata": {},
     "output_type": "execute_result"
    }
   ],
   "source": [
    "Sample_Data = np.random.randint(50,size=20)\n",
    "Sample_Data"
   ]
  },
  {
   "cell_type": "markdown",
   "id": "65e3831b-751d-41fb-b5c9-906e6b5fd304",
   "metadata": {},
   "source": [
    "### Population Variance"
   ]
  },
  {
   "cell_type": "code",
   "execution_count": 5,
   "id": "56e62f99-648a-40f2-a990-992e59972c46",
   "metadata": {},
   "outputs": [
    {
     "data": {
      "text/plain": [
       "np.float64(212.0)"
      ]
     },
     "execution_count": 5,
     "metadata": {},
     "output_type": "execute_result"
    }
   ],
   "source": [
    "Sample_Data.var().round()"
   ]
  },
  {
   "cell_type": "markdown",
   "id": "9ccc854a-1308-483c-ba77-ebf92c59e2bf",
   "metadata": {},
   "source": [
    "### Sample Variance"
   ]
  },
  {
   "cell_type": "code",
   "execution_count": 6,
   "id": "2f56d855-159e-4dea-a0db-eb1b41a5e108",
   "metadata": {},
   "outputs": [
    {
     "data": {
      "text/plain": [
       "np.float64(223.0)"
      ]
     },
     "execution_count": 6,
     "metadata": {},
     "output_type": "execute_result"
    }
   ],
   "source": [
    "Sample_Data.var(ddof=1).round() # Delta Degrees of Freedom (ddof) is   (n-1)=>(n-ddof)"
   ]
  },
  {
   "cell_type": "markdown",
   "id": "3b946e73-b5a5-493d-9dc2-1302a00a84f4",
   "metadata": {},
   "source": [
    "## 3) Standard Deviation\n",
    "* Denoted as (σ)\n",
    "* σ = √(variance)"
   ]
  },
  {
   "cell_type": "markdown",
   "id": "58bb6dfb-0420-4b34-9794-620830cc1bdb",
   "metadata": {},
   "source": [
    "### Population Data"
   ]
  },
  {
   "cell_type": "code",
   "execution_count": 7,
   "id": "45363ee9-26bc-4bec-a079-5f0f34d18a92",
   "metadata": {},
   "outputs": [
    {
     "data": {
      "text/plain": [
       "np.float64(14.563310063306348)"
      ]
     },
     "execution_count": 7,
     "metadata": {},
     "output_type": "execute_result"
    }
   ],
   "source": [
    "np.sqrt(Sample_Data.var())"
   ]
  },
  {
   "cell_type": "code",
   "execution_count": 8,
   "id": "f9fa0851-f9d9-4a59-8b31-7e8ec094f048",
   "metadata": {},
   "outputs": [
    {
     "data": {
      "text/plain": [
       "np.float64(15.0)"
      ]
     },
     "execution_count": 8,
     "metadata": {},
     "output_type": "execute_result"
    }
   ],
   "source": [
    "np.sqrt(Sample_Data.var()).round()"
   ]
  },
  {
   "cell_type": "markdown",
   "id": "414067b5-918f-4204-8c70-99f63c79db6a",
   "metadata": {},
   "source": [
    "### Sample Data"
   ]
  },
  {
   "cell_type": "code",
   "execution_count": 9,
   "id": "5c693dd2-00c8-4ec4-ae2e-faadfb49f9b6",
   "metadata": {},
   "outputs": [
    {
     "data": {
      "text/plain": [
       "np.float64(14.94164085965619)"
      ]
     },
     "execution_count": 9,
     "metadata": {},
     "output_type": "execute_result"
    }
   ],
   "source": [
    "np.sqrt(Sample_Data.var(ddof=1))"
   ]
  },
  {
   "cell_type": "code",
   "execution_count": 10,
   "id": "b27c7bda-9897-42c9-86d0-c950ee5c68c5",
   "metadata": {},
   "outputs": [
    {
     "data": {
      "text/plain": [
       "np.float64(15.0)"
      ]
     },
     "execution_count": 10,
     "metadata": {},
     "output_type": "execute_result"
    }
   ],
   "source": [
    "np.sqrt(Sample_Data.var(ddof=1)).round()"
   ]
  }
 ],
 "metadata": {
  "kernelspec": {
   "display_name": "Python 3 (ipykernel)",
   "language": "python",
   "name": "python3"
  },
  "language_info": {
   "codemirror_mode": {
    "name": "ipython",
    "version": 3
   },
   "file_extension": ".py",
   "mimetype": "text/x-python",
   "name": "python",
   "nbconvert_exporter": "python",
   "pygments_lexer": "ipython3",
   "version": "3.12.7"
  }
 },
 "nbformat": 4,
 "nbformat_minor": 5
}
