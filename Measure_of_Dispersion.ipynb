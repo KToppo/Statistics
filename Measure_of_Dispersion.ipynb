{
 "cells": [
  {
   "cell_type": "markdown",
   "id": "66253e94-6cdf-493f-9d19-6fc3532e5a63",
   "metadata": {},
   "source": [
    "# Measure of Dispersion\n",
    "1) Range\n",
    "2) Variance\n",
    "3) Standard Deviation"
   ]
  },
  {
   "cell_type": "markdown",
   "id": "518f987b-3567-47b5-8df4-9746f5cd79cd",
   "metadata": {},
   "source": [
    "## 1) Range\n",
    "* range = [lower limit : upper limit]"
   ]
  },
  {
   "cell_type": "markdown",
   "id": "4d472f16-a0ef-462d-9974-80109e84e499",
   "metadata": {},
   "source": [
    "## 2) Variance\n",
    "* Population (N)\n",
    "  * variance = (sum of $(x_i - mean)^2$)/N\n",
    "* Sample (n)\n",
    "  * variance = (sum of $(x_i - mean)^2$)/(n-1)"
   ]
  },
  {
   "cell_type": "markdown",
   "id": "3b946e73-b5a5-493d-9dc2-1302a00a84f4",
   "metadata": {},
   "source": [
    "## 3) Standard Deviation\n",
    "* Denoted as (σ)\n",
    "* σ = √(variance)"
   ]
  },
  {
   "cell_type": "code",
   "execution_count": null,
   "id": "5193a294-3685-4662-ad3d-007f4749a5c3",
   "metadata": {},
   "outputs": [],
   "source": []
  }
 ],
 "metadata": {
  "kernelspec": {
   "display_name": "Python 3 (ipykernel)",
   "language": "python",
   "name": "python3"
  },
  "language_info": {
   "codemirror_mode": {
    "name": "ipython",
    "version": 3
   },
   "file_extension": ".py",
   "mimetype": "text/x-python",
   "name": "python",
   "nbconvert_exporter": "python",
   "pygments_lexer": "ipython3",
   "version": "3.12.7"
  }
 },
 "nbformat": 4,
 "nbformat_minor": 5
}
