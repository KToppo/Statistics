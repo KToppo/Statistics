{
 "cells": [
  {
   "cell_type": "markdown",
   "id": "ae2f688e-1bb6-464d-8d38-efe3e17caf1b",
   "metadata": {},
   "source": [
    "# Finding Outliers"
   ]
  },
  {
   "cell_type": "code",
   "execution_count": 1,
   "id": "234c49f2-9cfb-4050-97a8-6933e6b27a9d",
   "metadata": {},
   "outputs": [],
   "source": [
    "import numpy as np\n",
    "import matplotlib.pyplot as plt"
   ]
  },
  {
   "cell_type": "code",
   "execution_count": 2,
   "id": "2513f802-5477-41cb-85bd-3d639a2dd436",
   "metadata": {},
   "outputs": [
    {
     "data": {
      "text/plain": [
       "array([  2,   4,   8,   0,   0,   7,   2,   2,   7,   3,   9,   9,   3,\n",
       "         7,   9,   0,  22,  28, 116, 119])"
      ]
     },
     "execution_count": 2,
     "metadata": {},
     "output_type": "execute_result"
    }
   ],
   "source": [
    "# Define our Data-set\n",
    "data = np.random.randint(10, size=15)\n",
    "outliers = np.random.randint(150, size=5)\n",
    "dataset = np.concat((data, outliers))\n",
    "dataset"
   ]
  },
  {
   "cell_type": "code",
   "execution_count": 3,
   "id": "55b379f0-bdce-4242-8eab-c336ee637644",
   "metadata": {},
   "outputs": [
    {
     "data": {
      "image/png": "[encoded data removed]",
      "text/plain": [
       "<Figure size 640x480 with 1 Axes>"
      ]
     },
     "metadata": {},
     "output_type": "display_data"
    }
   ],
   "source": [
    "plt.hist(dataset)\n",
    "plt.show()"
   ]
  },
  {
   "cell_type": "markdown",
   "id": "9cc87afb-f6cb-442b-b883-c37a744146ef",
   "metadata": {},
   "source": [
    "## Fingind Outliers"
   ]
  },
  {
   "cell_type": "markdown",
   "id": "97cc0f19-b244-4323-b8f0-ef5e31888341",
   "metadata": {},
   "source": [
    "### Z-Score Method"
   ]
  },
  {
   "cell_type": "code",
   "execution_count": 4,
   "id": "5ee72498-6cb7-4f18-b55d-676c98614e0f",
   "metadata": {},
   "outputs": [],
   "source": [
    "def detact_outliers(data):\n",
    "    dtc_outliers = []\n",
    "    thrashold = 1\n",
    "    mean = data.mean()\n",
    "    std = data.std()\n",
    "    for i in data:\n",
    "        z_score = (i-mean)/std\n",
    "        if np.abs(z_score)>thrashold:\n",
    "            dtc_outliers.append(i)\n",
    "    return dtc_outliers"
   ]
  },
  {
   "cell_type": "code",
   "execution_count": 5,
   "id": "d5dae9a8-6e0f-487e-923a-588be27f1238",
   "metadata": {},
   "outputs": [
    {
     "data": {
      "text/plain": [
       "[np.int64(116), np.int64(119)]"
      ]
     },
     "execution_count": 5,
     "metadata": {},
     "output_type": "execute_result"
    }
   ],
   "source": [
    "detact_outliers(dataset)"
   ]
  },
  {
   "cell_type": "markdown",
   "id": "bffe3645-7347-4590-b94f-9f8ad1d932e7",
   "metadata": {},
   "source": [
    "### IQR Method"
   ]
  },
  {
   "cell_type": "markdown",
   "id": "33235b04-2973-41cf-9990-c4c670d71154",
   "metadata": {},
   "source": [
    "1. Sort Data\n",
    "2. Calculate Q1(25%) and Q3(75%)\n",
    "3. IQR (Q3 - Q1)\n",
    "4. Lower fence and Heigher fence"
   ]
  },
  {
   "cell_type": "code",
   "execution_count": 6,
   "id": "09c2e59e-f705-4d1d-8586-2fbd60b5e959",
   "metadata": {},
   "outputs": [
    {
     "data": {
      "text/plain": [
       "array([  2,   4,   8,   0,   0,   7,   2,   2,   7,   3,   9,   9,   3,\n",
       "         7,   9,   0,  22,  28, 116, 119], dtype=int16)"
      ]
     },
     "execution_count": 6,
     "metadata": {},
     "output_type": "execute_result"
    }
   ],
   "source": [
    "# shortind data\n",
    "data = np.short(dataset)\n",
    "data"
   ]
  },
  {
   "cell_type": "code",
   "execution_count": 7,
   "id": "5271ed7c-e32c-4c28-89a4-0665aae97731",
   "metadata": {},
   "outputs": [
    {
     "data": {
      "text/plain": [
       "(np.float64(2.0), np.float64(9.0))"
      ]
     },
     "execution_count": 7,
     "metadata": {},
     "output_type": "execute_result"
    }
   ],
   "source": [
    "Q1, Q3 = np.quantile(data,[0.25,0.75])\n",
    "Q1, Q3"
   ]
  },
  {
   "cell_type": "code",
   "execution_count": 8,
   "id": "6e26abfd-f638-45a3-a9fd-de0c9ac4a8b7",
   "metadata": {},
   "outputs": [
    {
     "data": {
      "text/plain": [
       "np.float64(7.0)"
      ]
     },
     "execution_count": 8,
     "metadata": {},
     "output_type": "execute_result"
    }
   ],
   "source": [
    "IQR = Q3 - Q1\n",
    "IQR"
   ]
  },
  {
   "cell_type": "code",
   "execution_count": 9,
   "id": "4eb3211f-9646-484a-82b2-12ec8215abdd",
   "metadata": {},
   "outputs": [
    {
     "data": {
      "text/plain": [
       "(np.float64(-8.5), np.float64(19.5))"
      ]
     },
     "execution_count": 9,
     "metadata": {},
     "output_type": "execute_result"
    }
   ],
   "source": [
    "Lower_fence = Q1 - (1.5*IQR)\n",
    "heigher_fence = Q3 + (1.5*IQR)\n",
    "Lower_fence, heigher_fence"
   ]
  },
  {
   "cell_type": "code",
   "execution_count": 10,
   "id": "71e78ee1-a528-4844-b810-15bd5011f737",
   "metadata": {},
   "outputs": [
    {
     "data": {
      "text/plain": [
       "[np.int16(22), np.int16(28), np.int16(116), np.int16(119)]"
      ]
     },
     "execution_count": 10,
     "metadata": {},
     "output_type": "execute_result"
    }
   ],
   "source": [
    "dtc_outliers = []\n",
    "for i in data:\n",
    "    if (i<Lower_fence) | (i>heigher_fence):\n",
    "        dtc_outliers.append(i)\n",
    "dtc_outliers"
   ]
  },
  {
   "cell_type": "markdown",
   "id": "a2a0fb8f-b5e0-4417-974c-00a4fea89cf0",
   "metadata": {},
   "source": [
    "### Conclusion\n",
    "\n",
    "* The accuracy of the Z-score method exhibits significant sensitivity to the chosen threshold limit.\n",
    "* Conversely, the IQR (Interquartile Range) method employs mathematically derived lower and upper fence limits to identify outliers, offering a more robust and objective approach."
   ]
  },
  {
   "cell_type": "code",
   "execution_count": null,
   "id": "846374ec-766e-4493-a71a-2c74308f9220",
   "metadata": {},
   "outputs": [],
   "source": []
  }
 ],
 "metadata": {
  "kernelspec": {
   "display_name": "Python 3 (ipykernel)",
   "language": "python",
   "name": "python3"
  },
  "language_info": {
   "codemirror_mode": {
    "name": "ipython",
    "version": 3
   },
   "file_extension": ".py",
   "mimetype": "text/x-python",
   "name": "python",
   "nbconvert_exporter": "python",
   "pygments_lexer": "ipython3",
   "version": "3.12.7"
  }
 },
 "nbformat": 4,
 "nbformat_minor": 5
}
