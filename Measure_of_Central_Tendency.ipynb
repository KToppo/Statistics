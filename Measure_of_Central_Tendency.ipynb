{
 "cells": [
  {
   "cell_type": "code",
   "execution_count": 1,
   "id": "760ebb8b-ffe7-4aa9-a5bf-eb4454f0b706",
   "metadata": {},
   "outputs": [],
   "source": [
    "import numpy as np\n",
    "from scipy import stats as st"
   ]
  },
  {
   "cell_type": "markdown",
   "id": "bedfc32c-8040-4911-b33d-8f836115eb8d",
   "metadata": {},
   "source": [
    "# Measure of Central Tendency\n",
    "* Central Tendency refers to the measure used to determine the \"center\" of the distribution of data\n",
    "* Types\n",
    "  1) Mean\n",
    "  2) Median\n",
    "  3) Mode"
   ]
  },
  {
   "cell_type": "markdown",
   "id": "05c466d1-9e4f-477e-8a7d-d0196e606c6e",
   "metadata": {},
   "source": [
    "## 1) Mean (Average)\n",
    "* Populatuion Data\n",
    "  * Mean denoted as (μ)\n",
    "  * μ = (sum of all variables) / (Total Number of variables), where (Total Number of variables) denoted as \"N\"\n",
    "* Sample Data\n",
    "  * Mean denoted as (x̄)\n",
    "  * x̄ = (sum of all variables) / (Total Number of variables), where (Total Number of variables) denoted as \"n\""
   ]
  },
  {
   "cell_type": "markdown",
   "id": "10159472-8a2c-49f7-a001-1cd549f02fe2",
   "metadata": {},
   "source": [
    "### Example"
   ]
  },
  {
   "cell_type": "code",
   "execution_count": 2,
   "id": "54b6337c-55c2-4f3a-ade8-ce445290f070",
   "metadata": {},
   "outputs": [
    {
     "data": {
      "text/plain": [
       "87"
      ]
     },
     "execution_count": 2,
     "metadata": {},
     "output_type": "execute_result"
    }
   ],
   "source": [
    "sample_data = [10,12,4,16,9,16,2,18]\n",
    "sum_of_all_variables = sum(sample_data)\n",
    "sum_of_all_variables"
   ]
  },
  {
   "cell_type": "code",
   "execution_count": 3,
   "id": "310d219f-b239-4f38-9e96-37beedee7d1d",
   "metadata": {},
   "outputs": [
    {
     "data": {
      "text/plain": [
       "8"
      ]
     },
     "execution_count": 3,
     "metadata": {},
     "output_type": "execute_result"
    }
   ],
   "source": [
    "total_number_of_varibles = len(sample_data)\n",
    "total_number_of_varibles"
   ]
  },
  {
   "cell_type": "code",
   "execution_count": 4,
   "id": "c3827b3c-e801-40e0-b6a2-53010726b5fb",
   "metadata": {},
   "outputs": [
    {
     "data": {
      "text/plain": [
       "10.875"
      ]
     },
     "execution_count": 4,
     "metadata": {},
     "output_type": "execute_result"
    }
   ],
   "source": [
    "mean_x = sum_of_all_variables/total_number_of_varibles\n",
    "mean_x"
   ]
  },
  {
   "cell_type": "code",
   "execution_count": 5,
   "id": "d597e8a0-4550-4c05-9d73-8765d8304ad0",
   "metadata": {},
   "outputs": [
    {
     "data": {
      "text/plain": [
       "np.float64(10.875)"
      ]
     },
     "execution_count": 5,
     "metadata": {},
     "output_type": "execute_result"
    }
   ],
   "source": [
    "np.mean(sample_data)"
   ]
  },
  {
   "cell_type": "markdown",
   "id": "049ea4b6-f205-4bd3-847c-3834a9ec5f93",
   "metadata": {},
   "source": [
    "## 2) Median\n",
    "* Odd Number of Observation\n",
    "  * Median = {(n+1)/2}th variable, where \"n\" is total number of variables\n",
    "* Even Number of Observation\n",
    "  * Median = {[(n/2)th variable + ((n/2)+1)th varable]/2}, where \"n\" is total number of variables"
   ]
  },
  {
   "cell_type": "markdown",
   "id": "7c7fb6d4-039d-43c6-ae03-a60bd1be9971",
   "metadata": {},
   "source": [
    "### Odd Exmaple"
   ]
  },
  {
   "cell_type": "code",
   "execution_count": 6,
   "id": "35607481-ff25-4cb2-8a87-6ca99475341a",
   "metadata": {},
   "outputs": [
    {
     "data": {
      "text/plain": [
       "9"
      ]
     },
     "execution_count": 6,
     "metadata": {},
     "output_type": "execute_result"
    }
   ],
   "source": [
    "Odd_len_data = [23,12,10,15,25,9,17,19,27]\n",
    "len(Odd_len_data)"
   ]
  },
  {
   "cell_type": "code",
   "execution_count": 7,
   "id": "d8d9acb8-9301-4b85-8456-da71ce4bb909",
   "metadata": {},
   "outputs": [
    {
     "data": {
      "text/plain": [
       "[9, 10, 12, 15, 17, 19, 23, 25, 27]"
      ]
     },
     "execution_count": 7,
     "metadata": {},
     "output_type": "execute_result"
    }
   ],
   "source": [
    "# sorting values\n",
    "Odd_len_data = sorted(Odd_len_data)\n",
    "Odd_len_data"
   ]
  },
  {
   "cell_type": "code",
   "execution_count": 8,
   "id": "b3c713f5-beb7-49c0-8659-55e8e37dcb37",
   "metadata": {},
   "outputs": [
    {
     "data": {
      "text/plain": [
       "5.0"
      ]
     },
     "execution_count": 8,
     "metadata": {},
     "output_type": "execute_result"
    }
   ],
   "source": [
    "index = (len(Odd_len_data)+1)/2\n",
    "index"
   ]
  },
  {
   "cell_type": "code",
   "execution_count": 9,
   "id": "aee8d251-4809-4d81-97c3-dac726433bf1",
   "metadata": {},
   "outputs": [
    {
     "data": {
      "text/plain": [
       "17"
      ]
     },
     "execution_count": 9,
     "metadata": {},
     "output_type": "execute_result"
    }
   ],
   "source": [
    "median = Odd_len_data[int(index) - 1]  # 1 subtracted from index because python index starts from \"0\" NOT \"1\"\n",
    "median"
   ]
  },
  {
   "cell_type": "code",
   "execution_count": 10,
   "id": "c12e2a5b-c965-4cba-af48-55c9f3468970",
   "metadata": {},
   "outputs": [
    {
     "data": {
      "text/plain": [
       "np.float64(17.0)"
      ]
     },
     "execution_count": 10,
     "metadata": {},
     "output_type": "execute_result"
    }
   ],
   "source": [
    "# Conferming Answer using NumPy\n",
    "np.median(Odd_len_data)"
   ]
  },
  {
   "cell_type": "markdown",
   "id": "6cd28703-861f-4fd8-8a65-362f6d0eb8ab",
   "metadata": {},
   "source": [
    "### Even Example"
   ]
  },
  {
   "cell_type": "code",
   "execution_count": 11,
   "id": "fd402502-547f-42ac-a64d-15f7fa3fc076",
   "metadata": {},
   "outputs": [
    {
     "data": {
      "text/plain": [
       "10"
      ]
     },
     "execution_count": 11,
     "metadata": {},
     "output_type": "execute_result"
    }
   ],
   "source": [
    "Even_len_data = [23,12,10,15,25,9,17,19,27,14]\n",
    "len(Even_len_data)"
   ]
  },
  {
   "cell_type": "code",
   "execution_count": 12,
   "id": "75985aa7-d452-4730-913b-312c5f725cc5",
   "metadata": {},
   "outputs": [
    {
     "data": {
      "text/plain": [
       "[9, 10, 12, 14, 15, 17, 19, 23, 25, 27]"
      ]
     },
     "execution_count": 12,
     "metadata": {},
     "output_type": "execute_result"
    }
   ],
   "source": [
    "# Sorting Values\n",
    "Even_len_data = sorted(Even_len_data)\n",
    "Even_len_data"
   ]
  },
  {
   "cell_type": "code",
   "execution_count": 13,
   "id": "89143302-2a09-4837-af6f-10bb6b20ebf8",
   "metadata": {},
   "outputs": [
    {
     "data": {
      "text/plain": [
       "(5.0, 6.0)"
      ]
     },
     "execution_count": 13,
     "metadata": {},
     "output_type": "execute_result"
    }
   ],
   "source": [
    "n = len(Even_len_data)\n",
    "index1 = (n/2)\n",
    "index2 = (n/2)+1\n",
    "index1, index2"
   ]
  },
  {
   "cell_type": "code",
   "execution_count": 14,
   "id": "0c633b73-9680-47d9-abc7-b3f2d778517e",
   "metadata": {},
   "outputs": [
    {
     "data": {
      "text/plain": [
       "16.0"
      ]
     },
     "execution_count": 14,
     "metadata": {},
     "output_type": "execute_result"
    }
   ],
   "source": [
    "median = (Even_len_data[int(index1)-1] + Even_len_data[int(index2)-1]) / 2 # 1 subtracted from index because python index starts from \"0\" NOT \"1\"\n",
    "median"
   ]
  },
  {
   "cell_type": "code",
   "execution_count": 15,
   "id": "957cf11a-d29f-4259-9f88-4c8d48232d6e",
   "metadata": {},
   "outputs": [
    {
     "data": {
      "text/plain": [
       "np.float64(16.0)"
      ]
     },
     "execution_count": 15,
     "metadata": {},
     "output_type": "execute_result"
    }
   ],
   "source": [
    "# Conferming Answer using NumPy\n",
    "np.median(Even_len_data)"
   ]
  },
  {
   "cell_type": "markdown",
   "id": "6770cdfd-0618-449d-9baf-759e2f1c01b7",
   "metadata": {},
   "source": [
    "## 3) Mode\n",
    "* Most Frequent Elements"
   ]
  },
  {
   "cell_type": "code",
   "execution_count": 16,
   "id": "17ea1178-56d0-4ea1-b0a4-3e366f9bce11",
   "metadata": {},
   "outputs": [],
   "source": [
    "sample_data = [1,2,2,3,3,4,4,4,4,4,5,5,5]"
   ]
  },
  {
   "cell_type": "code",
   "execution_count": 17,
   "id": "ba0fb735-b1b1-47ef-ab0b-00007b072e6c",
   "metadata": {},
   "outputs": [
    {
     "data": {
      "text/plain": [
       "{1, 2, 3, 4, 5}"
      ]
     },
     "execution_count": 17,
     "metadata": {},
     "output_type": "execute_result"
    }
   ],
   "source": [
    "sample_set = set(sample_data)\n",
    "sample_set"
   ]
  },
  {
   "cell_type": "code",
   "execution_count": 18,
   "id": "a55f3323-3ef8-41d3-9b73-e4481bbea89f",
   "metadata": {},
   "outputs": [
    {
     "name": "stdout",
     "output_type": "stream",
     "text": [
      "Mode = 4\n",
      "Count = 5\n"
     ]
    }
   ],
   "source": [
    "value = 0\n",
    "count = 0\n",
    "for i in sample_set:\n",
    "    if sample_data.count(i) > count:\n",
    "        value = i\n",
    "        count = sample_data.count(i)\n",
    "mode = value\n",
    "print(f\"Mode = {mode}\\nCount = {count}\")"
   ]
  },
  {
   "cell_type": "code",
   "execution_count": 19,
   "id": "96aeb576-c4f4-436e-912b-c86afe53fa59",
   "metadata": {},
   "outputs": [
    {
     "data": {
      "text/plain": [
       "ModeResult(mode=np.int64(4), count=np.int64(5))"
      ]
     },
     "execution_count": 19,
     "metadata": {},
     "output_type": "execute_result"
    }
   ],
   "source": [
    "# Conferming Answer using scipy.stats\n",
    "st.mode(sample_data)"
   ]
  },
  {
   "cell_type": "code",
   "execution_count": null,
   "id": "6ae2e280-63df-407c-a1a7-a96650c72753",
   "metadata": {},
   "outputs": [],
   "source": []
  }
 ],
 "metadata": {
  "kernelspec": {
   "display_name": "Python 3 (ipykernel)",
   "language": "python",
   "name": "python3"
  },
  "language_info": {
   "codemirror_mode": {
    "name": "ipython",
    "version": 3
   },
   "file_extension": ".py",
   "mimetype": "text/x-python",
   "name": "python",
   "nbconvert_exporter": "python",
   "pygments_lexer": "ipython3",
   "version": "3.12.7"
  }
 },
 "nbformat": 4,
 "nbformat_minor": 5
}
