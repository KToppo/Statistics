{
 "cells": [
  {
   "cell_type": "code",
   "execution_count": 1,
   "id": "b7be616d-0e6a-4705-a3d9-62465575f3ca",
   "metadata": {},
   "outputs": [],
   "source": [
    "import numpy as np"
   ]
  },
  {
   "cell_type": "markdown",
   "id": "483e2705-847b-43a8-ba25-f542140c2862",
   "metadata": {},
   "source": [
    "# Population\n",
    "* The grop that er are interested in studing\n",
    "* Denoted as (N)"
   ]
  },
  {
   "cell_type": "code",
   "execution_count": 2,
   "id": "42dd0ad1-3ec0-4d77-8f11-aeaf6bc2ba4f",
   "metadata": {},
   "outputs": [
    {
     "name": "stdout",
     "output_type": "stream",
     "text": [
      "Generate 1000 random numbers between 1-60\n"
     ]
    }
   ],
   "source": [
    "N = np.random.randint(60, size=(1000))\n",
    "print(\"Generate 1000 random numbers between 1-60\")"
   ]
  },
  {
   "cell_type": "markdown",
   "id": "02a861d4-53f1-47ff-8819-61044df77fb6",
   "metadata": {},
   "source": [
    "# Sample\n",
    "* It's a sub-set of the Population\n",
    "* Denoted as (n)"
   ]
  },
  {
   "cell_type": "code",
   "execution_count": 3,
   "id": "9e41432c-70ad-49fc-85ae-53e48d06b4f8",
   "metadata": {},
   "outputs": [
    {
     "data": {
      "text/plain": [
       "array([ 2, 48,  0,  0, 36, 53,  1, 16, 30, 39,  5, 21, 58, 42, 14, 34, 47,\n",
       "       39, 22, 14, 58,  0,  4,  1, 25, 21, 47, 26, 53,  4,  3, 40,  5, 26,\n",
       "       30,  5, 28, 37, 47, 21, 18, 43, 58, 23,  9, 57,  3, 48, 52, 42, 49,\n",
       "       26, 22, 31, 55, 42, 11,  6, 39, 39, 16, 39, 27, 39, 54,  2, 29, 39,\n",
       "       45,  4, 43, 29, 28, 37, 41, 11, 20, 22, 58, 11, 49, 41, 45, 51, 54,\n",
       "       21, 18, 36, 47, 18, 24, 28, 37, 48, 55,  4, 50,  6, 55, 39])"
      ]
     },
     "execution_count": 3,
     "metadata": {},
     "output_type": "execute_result"
    }
   ],
   "source": [
    "# n1 is sample 1 taken from Population (N)\n",
    "n1 = np.random.choice(N, size=100)\n",
    "n1"
   ]
  },
  {
   "cell_type": "markdown",
   "id": "49f3a5e1-86ca-4e21-8ec5-13b3a17552bd",
   "metadata": {},
   "source": [
    "# Sampling Techinique\n",
    "* The goal of sampling is to create a simple that is representation of the entire population\n",
    "1. Simple Random Sampling\n",
    "2. Stratified Sampling\n",
    "3. Systematic Sampling\n",
    "4. Convenience Sampling"
   ]
  },
  {
   "cell_type": "markdown",
   "id": "e3a87aac-1207-4dec-b68e-f632789ca695",
   "metadata": {},
   "source": [
    "## 1) Simple Random Sampling\n",
    "* When performing simple random sempling, every member of the population (N) has as equal chance of being selected for your sample (n)"
   ]
  },
  {
   "cell_type": "code",
   "execution_count": 4,
   "id": "16518f8d-ffe6-4528-9660-4281ec7ca418",
   "metadata": {},
   "outputs": [
    {
     "data": {
      "text/plain": [
       "array([28, 38, 43, 27, 28, 10, 43, 34,  4, 28, 14, 30,  4, 18, 39, 17,  4,\n",
       "       28, 42, 15,  4, 50, 22, 29, 15, 50, 12,  9, 20, 17, 41,  7, 23, 39,\n",
       "       13, 53, 55,  7, 54, 50, 18, 35,  0, 29,  2, 10, 42, 13, 42, 57, 31,\n",
       "       13, 33, 28, 25, 12, 51, 14, 11, 35, 27, 32, 37, 18,  1, 13, 52, 15,\n",
       "        7, 18, 28, 20, 18, 11, 12, 39, 39, 45, 33, 47, 21, 53, 50, 24, 56,\n",
       "       23,  4, 44, 43, 43,  8, 40, 39, 26, 49, 41, 24, 23, 42,  1])"
      ]
     },
     "execution_count": 4,
     "metadata": {},
     "output_type": "execute_result"
    }
   ],
   "source": [
    "# Example\n",
    "n1 = np.random.choice(N, size=100)\n",
    "n1"
   ]
  },
  {
   "cell_type": "markdown",
   "id": "d74d1a59-dfaa-4d62-98d9-6f7abc95997e",
   "metadata": {},
   "source": [
    "## 2) Stratified Sampling\n",
    "* It's creates the non-overlaping groups"
   ]
  },
  {
   "cell_type": "code",
   "execution_count": 5,
   "id": "6a855bf9-b452-4bce-9f72-2ba6fef9bf80",
   "metadata": {},
   "outputs": [
    {
     "data": {
      "text/plain": [
       "array([21, 40,  4,  2, 21,  4, 40, 47, 29, 42, 53, 44,  4,  9, 27, 13, 31,\n",
       "       55, 41, 52, 50, 40, 34, 25, 27,  3, 49, 29, 17, 30, 58, 59, 40, 48,\n",
       "       40, 55, 29, 39, 59,  6, 47,  8, 19, 53, 41, 52, 56, 23, 29, 28, 39,\n",
       "       50, 27, 32, 18, 28, 51, 58, 54, 40, 30,  5, 29, 46, 36, 59, 31, 16,\n",
       "       28, 35, 10, 39, 51,  9, 26, 11,  0, 25, 21, 45, 15, 53, 15, 58, 55,\n",
       "       52, 17, 39,  0, 17, 42, 51, 51, 46, 23,  7, 39, 14, 13, 22, 32, 21,\n",
       "       45, 54, 58, 27,  7, 11, 42, 36, 27, 33, 22, 34,  8, 46, 30, 21, 35,\n",
       "       40, 10, 10, 53,  8, 41,  9, 38, 24, 15, 19, 50,  9, 18, 10, 29, 15,\n",
       "       13, 44, 46, 26,  4, 49, 18, 32, 25, 24, 38, 14, 52, 52, 53, 50, 42,\n",
       "       37, 39, 41, 57, 48,  7, 54, 43, 27, 39,  7, 40, 19, 41, 11, 33, 34,\n",
       "       25, 21, 50, 56, 50,  3, 21, 14, 31, 26, 32, 38, 35, 46,  2, 27, 22,\n",
       "       26,  3, 47, 43,  5, 52, 56, 12, 18, 17, 31,  0, 14])"
      ]
     },
     "execution_count": 5,
     "metadata": {},
     "output_type": "execute_result"
    }
   ],
   "source": [
    "n1 = N[:200]\n",
    "n2 = N[200:400]\n",
    "n3 = N[400:600]\n",
    "n4 = N[600:800]\n",
    "n5 = N[800:]\n",
    "n1"
   ]
  },
  {
   "cell_type": "markdown",
   "id": "6d7d37a1-2d61-428f-bd79-750fedec5aed",
   "metadata": {},
   "source": [
    "## Systematic sampling"
   ]
  },
  {
   "cell_type": "code",
   "execution_count": 6,
   "id": "38b30e93-bebc-44b6-ac1f-c6cbae7782b6",
   "metadata": {},
   "outputs": [
    {
     "data": {
      "text/plain": [
       "array([21,  4, 21, 40, 29, 53,  4, 27, 31, 41, 50, 34, 27, 49, 17, 58, 40,\n",
       "       40, 29, 59, 47, 19, 41, 56, 29, 39, 27, 18, 51, 54, 30, 29, 36, 31,\n",
       "       28, 10, 51, 26,  0, 21, 15, 15, 55, 17,  0, 42, 51, 23, 39, 13, 32,\n",
       "       45, 58,  7, 42, 27, 22,  8, 30, 35, 10, 53, 41, 38, 15, 50, 18, 29,\n",
       "       13, 46,  4, 18, 25, 38, 52, 53, 42, 39, 57,  7, 43, 39, 40, 41, 33,\n",
       "       25, 50, 50, 21, 31, 32, 35,  2, 22,  3, 43, 52, 12, 17,  0])"
      ]
     },
     "execution_count": 6,
     "metadata": {},
     "output_type": "execute_result"
    }
   ],
   "source": [
    "# Taking first 100 odd-index values sample as n1\n",
    "n1 = N[:200:2]\n",
    "# Taking first 100 even-index values sample as n1\n",
    "n2 = N[1:201:2]\n",
    "n1"
   ]
  },
  {
   "cell_type": "markdown",
   "id": "191af0a9-13f1-46d4-bafa-02a98e1f180a",
   "metadata": {},
   "source": [
    "## Convenience Sampling\n",
    "* Voluntary Response Sampling"
   ]
  },
  {
   "cell_type": "code",
   "execution_count": null,
   "id": "5d113569-ec8b-4fba-a8d0-f9d9c870bae8",
   "metadata": {},
   "outputs": [],
   "source": []
  }
 ],
 "metadata": {
  "kernelspec": {
   "display_name": "Python 3 (ipykernel)",
   "language": "python",
   "name": "python3"
  },
  "language_info": {
   "codemirror_mode": {
    "name": "ipython",
    "version": 3
   },
   "file_extension": ".py",
   "mimetype": "text/x-python",
   "name": "python",
   "nbconvert_exporter": "python",
   "pygments_lexer": "ipython3",
   "version": "3.12.7"
  }
 },
 "nbformat": 4,
 "nbformat_minor": 5
}
