{
 "cells": [
  {
   "cell_type": "markdown",
   "id": "6e4c26f7-8f21-4dbc-b1d0-8e211a76356a",
   "metadata": {},
   "source": [
    "# Variables\n",
    "* Variable is a property that can take on many values"
   ]
  },
  {
   "cell_type": "markdown",
   "id": "d5a8d2eb-f916-465d-aaa3-4d969277d05a",
   "metadata": {},
   "source": [
    "# Variable Typer\n",
    "* Quantitative Variable\n",
    "  * Discrete Variable\n",
    "    * [1,2,5,7,3]\n",
    "  * Continuous Variable\n",
    "    * [12.5, 10.2, 16.8, 18.3]\n",
    "* Qualitative / Categorical Variable\n",
    "  * [\"India\", \"China\", \"Pakistan\"]"
   ]
  },
  {
   "cell_type": "code",
   "execution_count": null,
   "id": "8dbacec9-93c7-4a41-a645-83cbf6877cf1",
   "metadata": {},
   "outputs": [],
   "source": []
  }
 ],
 "metadata": {
  "kernelspec": {
   "display_name": "Python 3 (ipykernel)",
   "language": "python",
   "name": "python3"
  },
  "language_info": {
   "codemirror_mode": {
    "name": "ipython",
    "version": 3
   },
   "file_extension": ".py",
   "mimetype": "text/x-python",
   "name": "python",
   "nbconvert_exporter": "python",
   "pygments_lexer": "ipython3",
   "version": "3.12.7"
  }
 },
 "nbformat": 4,
 "nbformat_minor": 5
}
